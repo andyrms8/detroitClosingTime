{
 "cells": [
  {
   "cell_type": "code",
   "execution_count": 119,
   "id": "b0890382",
   "metadata": {},
   "outputs": [],
   "source": [
    "import numpy\n",
    "import pandas as pd\n",
    "import matplotlib as plt\n",
    "import seaborn as sns"
   ]
  },
  {
   "cell_type": "code",
   "execution_count": 120,
   "id": "7d177557",
   "metadata": {},
   "outputs": [
    {
     "data": {
      "text/plain": [
       "(633347, 20)"
      ]
     },
     "execution_count": 120,
     "metadata": {},
     "output_type": "execute_result"
    }
   ],
   "source": [
    "df = pd.read_csv('../detroit_needs/Improve_Detroit_Issues.csv')\n",
    "df.head()\n",
    "df.shape"
   ]
  },
  {
   "cell_type": "code",
   "execution_count": 99,
   "id": "47da79b2",
   "metadata": {},
   "outputs": [
    {
     "data": {
      "text/plain": [
       "(418368, 20)"
      ]
     },
     "execution_count": 99,
     "metadata": {},
     "output_type": "execute_result"
    }
   ],
   "source": [
    "df.dropna(subset=['closed_at'], inplace = True)\n",
    "df.shape\n",
    "\n",
    "\n"
   ]
  },
  {
   "cell_type": "code",
   "execution_count": 100,
   "id": "ffbde5f4",
   "metadata": {},
   "outputs": [
    {
     "data": {
      "text/plain": [
       "(418368, 20)"
      ]
     },
     "execution_count": 100,
     "metadata": {},
     "output_type": "execute_result"
    }
   ],
   "source": [
    "df.dropna(subset=['created_at'], inplace = True)\n",
    "df.shape"
   ]
  },
  {
   "cell_type": "code",
   "execution_count": 101,
   "id": "1bec4808",
   "metadata": {},
   "outputs": [
    {
     "data": {
      "text/plain": [
       "(294688, 20)"
      ]
     },
     "execution_count": 101,
     "metadata": {},
     "output_type": "execute_result"
    }
   ],
   "source": [
    "df.drop_duplicates(subset='id', inplace= True)\n",
    "df.shape"
   ]
  },
  {
   "cell_type": "code",
   "execution_count": null,
   "id": "049bc143",
   "metadata": {},
   "outputs": [],
   "source": []
  },
  {
   "cell_type": "code",
   "execution_count": null,
   "id": "4fe22af1",
   "metadata": {},
   "outputs": [],
   "source": []
  },
  {
   "cell_type": "code",
   "execution_count": null,
   "id": "86d4988f",
   "metadata": {},
   "outputs": [],
   "source": []
  },
  {
   "cell_type": "code",
   "execution_count": null,
   "id": "3e016f10",
   "metadata": {},
   "outputs": [],
   "source": []
  },
  {
   "cell_type": "code",
   "execution_count": 103,
   "id": "9f7a8432",
   "metadata": {},
   "outputs": [
    {
     "data": {
      "text/plain": [
       "6.0"
      ]
     },
     "execution_count": 103,
     "metadata": {},
     "output_type": "execute_result"
    }
   ],
   "source": [
    "df['DAYS_BEFORE_CLOSED'] = (pd.to_datetime(df[\"closed_at\"])-pd.to_datetime(df[\"created_at\"])).dt.days\n",
    "\n",
    "df['DAYS_BEFORE_CLOSED'].median()\n",
    "\n",
    "\n",
    "#(pd.to_datetime(df.updated_at)-pd.to_datetime(df.created_at)).dt.days\n",
    "\n"
   ]
  },
  {
   "cell_type": "code",
   "execution_count": 104,
   "id": "682fb819",
   "metadata": {
    "scrolled": true
   },
   "outputs": [
    {
     "data": {
      "text/plain": [
       "(155054, 21)"
      ]
     },
     "execution_count": 104,
     "metadata": {},
     "output_type": "execute_result"
    }
   ],
   "source": [
    "#temp = df.dropna(subset=['days_to_close'])\n",
    "#df['days_to_close'].median()\n",
    "#df['days_to_close'].mean()\n",
    "\n",
    "dropped_council = df.dropna(subset=['council_district'])\n",
    "dropped_council.shape\n",
    "\n",
    "\n",
    "\n",
    "\n",
    "\n",
    "\n"
   ]
  },
  {
   "cell_type": "code",
   "execution_count": 24,
   "id": "73120f2d",
   "metadata": {},
   "outputs": [
    {
     "name": "stdout",
     "output_type": "stream",
     "text": [
      "council_district\n",
      "1.0    20.794559\n",
      "2.0    27.763034\n",
      "3.0    30.656177\n",
      "4.0    26.249742\n",
      "5.0    29.031674\n",
      "6.0    26.904582\n",
      "7.0    19.411192\n",
      "Name: DAYS_BEFORE_CLOSED, dtype: float64\n"
     ]
    }
   ],
   "source": [
    "closetime_by_district = dropped_council.groupby('council_district').DAYS_BEFORE_CLOSED.mean()\n",
    "closetime_by_district\n",
    "print(closetime_by_district)\n"
   ]
  },
  {
   "cell_type": "code",
   "execution_count": 92,
   "id": "fc4b2352",
   "metadata": {},
   "outputs": [
    {
     "data": {
      "text/plain": [
       "(154965, 21)"
      ]
     },
     "execution_count": 92,
     "metadata": {},
     "output_type": "execute_result"
    }
   ],
   "source": [
    "dropped_neigh = df.dropna(subset=['neighborhood'])\n",
    "dropped_neigh.shape\n"
   ]
  },
  {
   "cell_type": "code",
   "execution_count": 117,
   "id": "e0aaa385",
   "metadata": {},
   "outputs": [
    {
     "data": {
      "text/plain": [
       "neighborhood\n",
       "Aviation Sub            6.0\n",
       "Denby                   6.0\n",
       "Detroit Golf            6.0\n",
       "Evergreen Lahser 7/8    6.0\n",
       "Greenwich               6.0\n",
       "Indian Village          6.0\n",
       "Jefferson Chalmers      6.0\n",
       "Joy Community           6.0\n",
       "Martin Park             6.0\n",
       "Michigan-Martin         6.0\n",
       "Miller Grove            6.0\n",
       "Minock Park             6.0\n",
       "Palmer Woods            6.0\n",
       "Pembroke                6.0\n",
       "Petoskey-Otsego         6.0\n",
       "Name: DAYS_BEFORE_CLOSED, dtype: float64"
      ]
     },
     "execution_count": 117,
     "metadata": {},
     "output_type": "execute_result"
    }
   ],
   "source": [
    "\n",
    "closetime_by_neigh = dropped_neigh.groupby('neighborhood').DAYS_BEFORE_CLOSED.median()\n",
    "closetime_by_neigh.nlargest(15)\n",
    "\n"
   ]
  },
  {
   "cell_type": "code",
   "execution_count": 87,
   "id": "4bd5457d",
   "metadata": {},
   "outputs": [
    {
     "data": {
      "text/plain": [
       "DPW - Debris Removal - DPW USE ONLY                           53120\n",
       "DPW - Other environmental - DPW USE ONLY                      34071\n",
       "Illegal Dump Sites                                            33490\n",
       "Curbside Solid Waste Issue                                    30558\n",
       "Abandoned Vehicle                                             23864\n",
       "Potholes                                                      16642\n",
       "Tree Issue                                                    14212\n",
       "Traffic Sign Issue                                             9492\n",
       "Curbside - DPW ONLY                                            9131\n",
       "Rodent Extermination - BSEED Only                              8395\n",
       "Blocked Catch Basin                                            8322\n",
       "Rodent Extermination                                           6309\n",
       "Running Water in a Home or Building                            5829\n",
       "Water Main Break                                               3888\n",
       "Investigate Water Main Break                                   3788\n",
       "Dead Animal Removal                                            3096\n",
       "Street Light Out                                               2866\n",
       "Traffic Signal Issue                                           2838\n",
       "Residential Snow Removal Issue                                 2528\n",
       "Investigate Service Leak                                       2500\n",
       "Fire Hydrant Issue                                             2490\n",
       "Manhole Cover Issue                                            1927\n",
       "Investigate Fire Hydrant Related Issues                        1730\n",
       "Traffic Complaints                                             1693\n",
       "Investigate Blocked Basin Street                               1646\n",
       "Squatters Issue                                                1460\n",
       "Investigate Cave In (Sink Hole)                                1427\n",
       "Park Issue                                                     1126\n",
       "Investigate Running Water Vacant Property                       970\n",
       "Street Light Pole Down                                          931\n",
       "Illegal Signs - GSD Only                                        545\n",
       "Reboard House Request                                           468\n",
       "Investigate Blocked Basin Alley                                 420\n",
       "Vacant Lot Cutting                                              412\n",
       "Investigate Manhole Cover                                       402\n",
       "Cave-In over the Sewer                                          374\n",
       "Investigate Missing Catch Basin Cover                           346\n",
       "Other - Referred to other City Department                       311\n",
       "Street Light / Street Light Pole Major Repair                   211\n",
       "Investigate Restoration                                         205\n",
       "Other - Not within City jurisdiction                            153\n",
       "Historic District Commission Approval Verification Request      120\n",
       "Alley Debris – GSD ONLY                                         101\n",
       "Graffiti Abatement                                              101\n",
       "Illegal Dumping In Progress                                      58\n",
       "Other - Not within scope of City services                        44\n",
       "Alley Grading - DPW Use Only                                     38\n",
       "Vacant Service Leak                                              18\n",
       "Cemetery Issue                                                    7\n",
       "Graffiti Abatement - Major Project                                5\n",
       "Squatters - Fraud Investigation                                   4\n",
       "Marina Issue                                                      3\n",
       "Investigate Water In Basement (Basement Backup)                   2\n",
       "Clogged Drain                                                     1\n",
       "Name: request_type_title, dtype: int64"
      ]
     },
     "execution_count": 87,
     "metadata": {},
     "output_type": "execute_result"
    }
   ],
   "source": [
    "dropped_req_type = df.dropna(subset=['request_type_title'])\n",
    "dropped_req_type.shape\n",
    "dropped_req_type['request_type_title'].value_counts()\n",
    "#unique_req_types = numpy.array(dropped_req_type['request_type_title'].unique())\n",
    "#issue_type_and_closing= pd.DataFrame({'unique_reqs':unique_req_types })\n",
    "#issue_type_and_closing = issue_type_and_closing['unique_reqs'].sort_values()\n",
    "#print(issue_type_and_closing)\n",
    "\n",
    "\n",
    "\n"
   ]
  },
  {
   "cell_type": "code",
   "execution_count": 88,
   "id": "eaa305cb",
   "metadata": {},
   "outputs": [
    {
     "data": {
      "text/plain": [
       "request_type_title\n",
       "Abandoned Vehicle                                               4.0\n",
       "Alley Debris – GSD ONLY                                         5.0\n",
       "Alley Grading - DPW Use Only                                   41.0\n",
       "Blocked Catch Basin                                           143.0\n",
       "Cave-In over the Sewer                                         60.0\n",
       "Cemetery Issue                                                  2.0\n",
       "Clogged Drain                                                 112.0\n",
       "Curbside - DPW ONLY                                            21.0\n",
       "Curbside Solid Waste Issue                                      8.0\n",
       "DPW - Debris Removal - DPW USE ONLY                            11.0\n",
       "DPW - Other environmental - DPW USE ONLY                        4.0\n",
       "Dead Animal Removal                                             0.0\n",
       "Fire Hydrant Issue                                              7.0\n",
       "Graffiti Abatement                                              2.0\n",
       "Graffiti Abatement - Major Project                              6.0\n",
       "Historic District Commission Approval Verification Request      2.0\n",
       "Illegal Dump Sites                                              6.0\n",
       "Illegal Dumping In Progress                                    15.0\n",
       "Illegal Signs - GSD Only                                        0.0\n",
       "Investigate Blocked Basin Alley                                44.5\n",
       "Investigate Blocked Basin Street                               60.0\n",
       "Investigate Cave In (Sink Hole)                                15.0\n",
       "Investigate Fire Hydrant Related Issues                        21.0\n",
       "Investigate Manhole Cover                                       6.0\n",
       "Investigate Missing Catch Basin Cover                          19.0\n",
       "Investigate Restoration                                         3.0\n",
       "Investigate Running Water Vacant Property                       9.0\n",
       "Investigate Service Leak                                        6.0\n",
       "Investigate Water In Basement (Basement Backup)               107.5\n",
       "Investigate Water Main Break                                    6.0\n",
       "Manhole Cover Issue                                             5.0\n",
       "Marina Issue                                                  120.0\n",
       "Other - Not within City jurisdiction                            0.0\n",
       "Other - Not within scope of City services                       3.0\n",
       "Other - Referred to other City Department                       5.0\n",
       "Park Issue                                                      7.0\n",
       "Potholes                                                        1.0\n",
       "Reboard House Request                                          31.0\n",
       "Residential Snow Removal Issue                                  2.0\n",
       "Rodent Extermination                                           12.0\n",
       "Rodent Extermination - BSEED Only                               6.0\n",
       "Running Water in a Home or Building                             1.0\n",
       "Squatters - Fraud Investigation                                 0.0\n",
       "Squatters Issue                                                26.0\n",
       "Street Light / Street Light Pole Major Repair                  62.0\n",
       "Street Light Out                                               14.0\n",
       "Street Light Pole Down                                          6.0\n",
       "Traffic Complaints                                             26.0\n",
       "Traffic Sign Issue                                              2.0\n",
       "Traffic Signal Issue                                            1.0\n",
       "Tree Issue                                                      3.0\n",
       "Vacant Lot Cutting                                              0.0\n",
       "Vacant Service Leak                                             2.5\n",
       "Water Main Break                                                6.0\n",
       "Name: DAYS_BEFORE_CLOSED, dtype: float64"
      ]
     },
     "execution_count": 88,
     "metadata": {},
     "output_type": "execute_result"
    }
   ],
   "source": [
    "closetime_by_req_type = dropped_req_type.groupby('request_type_title').DAYS_BEFORE_CLOSED.median()\n",
    "\n",
    "\n",
    "#issue_type_and_closing[closing_time]\n",
    "closetime_by_req_type"
   ]
  },
  {
   "cell_type": "code",
   "execution_count": 61,
   "id": "e159f7e8",
   "metadata": {},
   "outputs": [
    {
     "ename": "AttributeError",
     "evalue": "'list' object has no attribute 'value_counts'",
     "output_type": "error",
     "traceback": [
      "\u001b[0;31m---------------------------------------------------------------------------\u001b[0m",
      "\u001b[0;31mAttributeError\u001b[0m                            Traceback (most recent call last)",
      "\u001b[0;32m/var/folders/jh/vw7rb5c149n0g_r2270hvryw0000gn/T/ipykernel_94258/751035599.py\u001b[0m in \u001b[0;36m<module>\u001b[0;34m\u001b[0m\n\u001b[0;32m----> 1\u001b[0;31m \u001b[0mdropped_req_type\u001b[0m\u001b[0;34m.\u001b[0m\u001b[0mplot\u001b[0m\u001b[0;34m.\u001b[0m\u001b[0mscatter\u001b[0m\u001b[0;34m(\u001b[0m\u001b[0mx\u001b[0m\u001b[0;34m=\u001b[0m\u001b[0;34m[\u001b[0m\u001b[0;34m'request_type_title'\u001b[0m\u001b[0;34m]\u001b[0m\u001b[0;34m.\u001b[0m\u001b[0mvalue_counts\u001b[0m\u001b[0;34m(\u001b[0m\u001b[0;34m)\u001b[0m\u001b[0;34m,\u001b[0m \u001b[0my\u001b[0m\u001b[0;34m=\u001b[0m\u001b[0mdropped_req_type\u001b[0m\u001b[0;34m.\u001b[0m\u001b[0mgroupby\u001b[0m\u001b[0;34m(\u001b[0m\u001b[0;34m'request_type_title'\u001b[0m\u001b[0;34m)\u001b[0m\u001b[0;34m.\u001b[0m\u001b[0mDAYS_BEFORE_CLOSED\u001b[0m\u001b[0;34m.\u001b[0m\u001b[0mmean\u001b[0m\u001b[0;34m(\u001b[0m\u001b[0;34m)\u001b[0m\u001b[0;34m)\u001b[0m\u001b[0;34m\u001b[0m\u001b[0;34m\u001b[0m\u001b[0m\n\u001b[0m",
      "\u001b[0;31mAttributeError\u001b[0m: 'list' object has no attribute 'value_counts'"
     ]
    }
   ],
   "source": [
    "dropped_req_type.plot.scatter(x=['request_type_title'].value_counts(), y=dropped_req_type.groupby('request_type_title').DAYS_BEFORE_CLOSED.mean())\n"
   ]
  },
  {
   "cell_type": "code",
   "execution_count": 29,
   "id": "0ba1d557",
   "metadata": {},
   "outputs": [],
   "source": [
    "df['priority_code'].max() - df['priority_code'].min()\n",
    "x = df['request_type_title'].value_counts()\n",
    "\n"
   ]
  },
  {
   "cell_type": "code",
   "execution_count": 30,
   "id": "ceda1ffa",
   "metadata": {},
   "outputs": [
    {
     "data": {
      "text/plain": [
       "<AxesSubplot:>"
      ]
     },
     "execution_count": 30,
     "metadata": {},
     "output_type": "execute_result"
    },
    {
     "data": {
      "image/png": "[encoded data removed]",
      "text/plain": [
       "<Figure size 432x288 with 1 Axes>"
      ]
     },
     "metadata": {
      "needs_background": "light"
     },
     "output_type": "display_data"
    }
   ],
   "source": [
    "x.hist()"
   ]
  },
  {
   "cell_type": "code",
   "execution_count": null,
   "id": "8f429cd2",
   "metadata": {},
   "outputs": [],
   "source": []
  }
 ],
 "metadata": {
  "kernelspec": {
   "display_name": "Python 3 (ipykernel)",
   "language": "python",
   "name": "python3"
  },
  "language_info": {
   "codemirror_mode": {
    "name": "ipython",
    "version": 3
   },
   "file_extension": ".py",
   "mimetype": "text/x-python",
   "name": "python",
   "nbconvert_exporter": "python",
   "pygments_lexer": "ipython3",
   "version": "3.9.7"
  }
 },
 "nbformat": 4,
 "nbformat_minor": 5
}
