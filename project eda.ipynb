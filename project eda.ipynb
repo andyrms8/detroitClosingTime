{
 "cells": [
  {
   "cell_type": "code",
   "execution_count": 115,
   "id": "edbe6c39",
   "metadata": {},
   "outputs": [],
   "source": [
    "import pandas as pd\n",
    "import numpy as np\n",
    "import matplotlib.pyplot as plt"
   ]
  },
  {
   "cell_type": "code",
   "execution_count": 116,
   "id": "b53baea1",
   "metadata": {},
   "outputs": [
    {
     "name": "stderr",
     "output_type": "stream",
     "text": [
      "/var/folders/br/xgmwhl8x6_z3167byq6l11qh0000gn/T/ipykernel_24465/2779341279.py:1: DtypeWarning: Columns (12,17) have mixed types. Specify dtype option on import or set low_memory=False.\n",
      "  df = pd.read_csv('../Project/Improve_Detroit_Issues.csv')\n"
     ]
    }
   ],
   "source": [
    "df = pd.read_csv('../Project/Improve_Detroit_Issues.csv')"
   ]
  },
  {
   "cell_type": "code",
   "execution_count": 117,
   "id": "98ca1522",
   "metadata": {},
   "outputs": [
    {
     "data": {
      "text/plain": [
       "(633347, 20)"
      ]
     },
     "execution_count": 117,
     "metadata": {},
     "output_type": "execute_result"
    }
   ],
   "source": [
    "df.head()\n",
    "df.shape"
   ]
  },
  {
   "cell_type": "code",
   "execution_count": 119,
   "id": "ff681886",
   "metadata": {},
   "outputs": [
    {
     "data": {
      "text/plain": [
       "(249518, 20)"
      ]
     },
     "execution_count": 119,
     "metadata": {},
     "output_type": "execute_result"
    }
   ],
   "source": [
    "df.drop_duplicates(subset='id', inplace=True)\n",
    "df.dropna(subset=['closed_at'], inplace=True)\n",
    "df.dropna(subset=['created_at'], inplace=True)\n",
    "df.shape\n"
   ]
  },
  {
   "cell_type": "code",
   "execution_count": 93,
   "id": "23d1ddfd",
   "metadata": {},
   "outputs": [
    {
     "data": {
      "text/plain": [
       "26.592331550656965"
      ]
     },
     "execution_count": 93,
     "metadata": {},
     "output_type": "execute_result"
    }
   ],
   "source": [
    "df['DAYS_BEFORE_CLOSED'] = (pd.to_datetime(df['closed_at'])-pd.to_datetime(df['created_at'])).dt.days\n",
    "\n",
    "df['DAYS_BEFORE_CLOSED'].mean()\n",
    "            \n",
    "                                           "
   ]
  },
  {
   "cell_type": "code",
   "execution_count": 109,
   "id": "4d6d84c8",
   "metadata": {},
   "outputs": [
    {
     "data": {
      "text/plain": [
       "(249518, 20)"
      ]
     },
     "execution_count": 109,
     "metadata": {},
     "output_type": "execute_result"
    }
   ],
   "source": []
  },
  {
   "cell_type": "code",
   "execution_count": 96,
   "id": "fc8a17ab",
   "metadata": {},
   "outputs": [
    {
     "data": {
      "text/plain": [
       "report_method\n",
       "direct              7.0\n",
       "email               7.0\n",
       "internal            0.0\n",
       "other               0.0\n",
       "phone               8.0\n",
       "public_meeting      4.0\n",
       "social/facebook    80.0\n",
       "social/other       86.0\n",
       "social/twitter      0.0\n",
       "walkin              0.0\n",
       "Name: DAYS_BEFORE_CLOSED, dtype: float64"
      ]
     },
     "execution_count": 96,
     "metadata": {},
     "output_type": "execute_result"
    }
   ],
   "source": [
    "df.dropna(subset=['report_method'], inplace=True)\n",
    "df['report_method'].unique()\n",
    "neighborhood = df.groupby('report_method')\n",
    "neighborhood['DAYS_BEFORE_CLOSED'].median()\n"
   ]
  },
  {
   "cell_type": "code",
   "execution_count": null,
   "id": "8d2829e6",
   "metadata": {},
   "outputs": [],
   "source": []
  }
 ],
 "metadata": {
  "kernelspec": {
   "display_name": "Python 3 (ipykernel)",
   "language": "python",
   "name": "python3"
  },
  "language_info": {
   "codemirror_mode": {
    "name": "ipython",
    "version": 3
   },
   "file_extension": ".py",
   "mimetype": "text/x-python",
   "name": "python",
   "nbconvert_exporter": "python",
   "pygments_lexer": "ipython3",
   "version": "3.9.5"
  }
 },
 "nbformat": 4,
 "nbformat_minor": 5
}
